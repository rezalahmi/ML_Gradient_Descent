{
 "cells": [
  {
   "cell_type": "markdown",
   "metadata": {},
   "source": [
    "<h2 style='color:blue' align='center'>Implementation grandient descent in python</h2>"
   ]
  },
  {
   "cell_type": "code",
   "execution_count": 3,
   "metadata": {},
   "outputs": [],
   "source": [
    "import pandas as pd\n",
    "import numpy as np\n",
    "from matplotlib import pyplot as plt\n",
    "%matplotlib inline\n",
    "import random"
   ]
  },
  {
   "cell_type": "markdown",
   "metadata": {},
   "source": [
    "##### Load the dataset in pandas dataframe"
   ]
  },
  {
   "cell_type": "code",
   "execution_count": 4,
   "metadata": {},
   "outputs": [
    {
     "data": {
      "text/html": [
       "<div>\n",
       "<style scoped>\n",
       "    .dataframe tbody tr th:only-of-type {\n",
       "        vertical-align: middle;\n",
       "    }\n",
       "\n",
       "    .dataframe tbody tr th {\n",
       "        vertical-align: top;\n",
       "    }\n",
       "\n",
       "    .dataframe thead th {\n",
       "        text-align: right;\n",
       "    }\n",
       "</style>\n",
       "<table border=\"1\" class=\"dataframe\">\n",
       "  <thead>\n",
       "    <tr style=\"text-align: right;\">\n",
       "      <th></th>\n",
       "      <th>area</th>\n",
       "      <th>bedrooms</th>\n",
       "      <th>price</th>\n",
       "    </tr>\n",
       "  </thead>\n",
       "  <tbody>\n",
       "    <tr>\n",
       "      <th>13</th>\n",
       "      <td>1100</td>\n",
       "      <td>2</td>\n",
       "      <td>40.00</td>\n",
       "    </tr>\n",
       "    <tr>\n",
       "      <th>0</th>\n",
       "      <td>1056</td>\n",
       "      <td>2</td>\n",
       "      <td>39.07</td>\n",
       "    </tr>\n",
       "    <tr>\n",
       "      <th>7</th>\n",
       "      <td>3300</td>\n",
       "      <td>4</td>\n",
       "      <td>155.00</td>\n",
       "    </tr>\n",
       "    <tr>\n",
       "      <th>14</th>\n",
       "      <td>2250</td>\n",
       "      <td>3</td>\n",
       "      <td>101.00</td>\n",
       "    </tr>\n",
       "    <tr>\n",
       "      <th>5</th>\n",
       "      <td>1170</td>\n",
       "      <td>2</td>\n",
       "      <td>38.00</td>\n",
       "    </tr>\n",
       "  </tbody>\n",
       "</table>\n",
       "</div>"
      ],
      "text/plain": [
       "    area  bedrooms   price\n",
       "13  1100         2   40.00\n",
       "0   1056         2   39.07\n",
       "7   3300         4  155.00\n",
       "14  2250         3  101.00\n",
       "5   1170         2   38.00"
      ]
     },
     "execution_count": 4,
     "metadata": {},
     "output_type": "execute_result"
    }
   ],
   "source": [
    "df = pd.read_csv(\"homeprices_banglore.csv\")\n",
    "df.sample(5)"
   ]
  },
  {
   "cell_type": "markdown",
   "metadata": {},
   "source": [
    "##### Preprocessing/Scaling: Since our columns are on different sacle it is important to perform scaling on them"
   ]
  },
  {
   "cell_type": "code",
   "execution_count": 5,
   "metadata": {},
   "outputs": [
    {
     "data": {
      "text/plain": [
       "array([[0.08827586, 0.25      ],\n",
       "       [0.62068966, 0.75      ],\n",
       "       [0.22068966, 0.5       ],\n",
       "       [0.24862069, 0.5       ],\n",
       "       [0.13793103, 0.25      ],\n",
       "       [0.12758621, 0.25      ],\n",
       "       [0.6662069 , 0.75      ],\n",
       "       [0.86206897, 0.75      ],\n",
       "       [0.17586207, 0.5       ],\n",
       "       [1.        , 1.        ],\n",
       "       [0.34482759, 0.5       ],\n",
       "       [0.68448276, 0.75      ],\n",
       "       [0.06896552, 0.25      ],\n",
       "       [0.10344828, 0.25      ],\n",
       "       [0.5       , 0.5       ],\n",
       "       [0.12931034, 0.25      ],\n",
       "       [0.13103448, 0.5       ],\n",
       "       [0.25517241, 0.5       ],\n",
       "       [0.67931034, 0.5       ],\n",
       "       [0.        , 0.        ]])"
      ]
     },
     "execution_count": 5,
     "metadata": {},
     "output_type": "execute_result"
    }
   ],
   "source": [
    "from sklearn import preprocessing\n",
    "sx = preprocessing.MinMaxScaler()\n",
    "sy = preprocessing.MinMaxScaler()\n",
    "\n",
    "scaled_X = sx.fit_transform(df.drop('price',axis='columns'))\n",
    "scaled_y = sy.fit_transform(df['price'].values.reshape(df.shape[0],1))\n",
    "\n",
    "scaled_X"
   ]
  },
  {
   "cell_type": "code",
   "execution_count": 6,
   "metadata": {},
   "outputs": [
    {
     "data": {
      "text/plain": [
       "array([[0.05237037],\n",
       "       [0.65185185],\n",
       "       [0.22222222],\n",
       "       [0.31851852],\n",
       "       [0.14074074],\n",
       "       [0.04444444],\n",
       "       [0.76296296],\n",
       "       [0.91111111],\n",
       "       [0.13333333],\n",
       "       [1.        ],\n",
       "       [0.37037037],\n",
       "       [0.8       ],\n",
       "       [0.04444444],\n",
       "       [0.05925926],\n",
       "       [0.51111111],\n",
       "       [0.07407407],\n",
       "       [0.11851852],\n",
       "       [0.20740741],\n",
       "       [0.51851852],\n",
       "       [0.        ]])"
      ]
     },
     "execution_count": 6,
     "metadata": {},
     "output_type": "execute_result"
    }
   ],
   "source": [
    "scaled_y"
   ]
  },
  {
   "cell_type": "markdown",
   "metadata": {},
   "source": [
    "##### We should convert target column (i.e. price) into one dimensional array. It has become 2D due to scaling that we did above but now we should change to 1D"
   ]
  },
  {
   "cell_type": "code",
   "execution_count": 7,
   "metadata": {
    "scrolled": true
   },
   "outputs": [
    {
     "data": {
      "text/plain": [
       "array([0.05237037, 0.65185185, 0.22222222, 0.31851852, 0.14074074,\n",
       "       0.04444444, 0.76296296, 0.91111111, 0.13333333, 1.        ,\n",
       "       0.37037037, 0.8       , 0.04444444, 0.05925926, 0.51111111,\n",
       "       0.07407407, 0.11851852, 0.20740741, 0.51851852, 0.        ])"
      ]
     },
     "execution_count": 7,
     "metadata": {},
     "output_type": "execute_result"
    }
   ],
   "source": [
    "scaled_y.reshape(20,)"
   ]
  },
  {
   "cell_type": "code",
   "execution_count": 16,
   "metadata": {},
   "outputs": [],
   "source": [
    "class Gradient_Descent:\n",
    "    def __init__(self, learning_rate = 0.01 , epochs = 500):\n",
    "        self.w             = 0\n",
    "        self.b             = 0\n",
    "        self.cost          = 0\n",
    "        self.cost_list     = []\n",
    "        self.epoch_list    = []\n",
    "        self.learning_rate = learning_rate\n",
    "        self.epochs        = epochs \n",
    "    \n",
    "    def batch_gradient_descent(self,X, y_true):\n",
    "        number_of_features = X.shape[1]\n",
    "        # numpy array with 1 row and columns equal to number of features.\n",
    "        self.w = np.ones(shape=(number_of_features)) \n",
    "        self.b = 0\n",
    "        total_samples = X.shape[0] # number of rows in X\n",
    "    \n",
    "        for i in range(self.epochs):        \n",
    "            y_predicted = np.dot(self.w, X.T) + self.b\n",
    "\n",
    "            w_grad = -(2/total_samples)*(X.T.dot(y_true-y_predicted))\n",
    "            b_grad = -(2/total_samples)*np.sum(y_true-y_predicted)\n",
    "        \n",
    "            self.w = self.w - self.learning_rate * w_grad\n",
    "            self.b = self.b - self.learning_rate * b_grad\n",
    "        \n",
    "            self.cost = np.mean(np.square(y_true-y_predicted)) # MSE (Mean Squared Error)\n",
    "        \n",
    "            if i%10==0:\n",
    "                self.cost_list.append(self.cost)\n",
    "                self.epoch_list.append(i)\n",
    "        return self.w, self.b, self.cost, self.cost_list, self.epoch_list\n",
    "\n",
    "    def stochastic_gradient_descent(self,X, y_true):\n",
    "        number_of_features = X.shape[1]\n",
    "        # numpy array with 1 row and columns equal to number of features. \n",
    "        self.w = np.ones(shape=(number_of_features)) \n",
    "        self.b = 0\n",
    "        total_samples = X.shape[0]\n",
    "\n",
    "        for i in range(self.epochs):    \n",
    "            random_index = random.randint(0,total_samples-1) # random index from total samples\n",
    "            sample_x = X[random_index]\n",
    "            sample_y = y_true[random_index]\n",
    "        \n",
    "            y_predicted = np.dot(self.w, sample_x.T) + self.b\n",
    "    \n",
    "            w_grad = -(2/total_samples)*(sample_x.T.dot(sample_y-y_predicted))\n",
    "            b_grad = -(2/total_samples)*(sample_y-y_predicted)\n",
    "        \n",
    "            self.w = self.w - self.learning_rate * w_grad\n",
    "            self.b = self.b - self.learning_rate * b_grad\n",
    "        \n",
    "            self.cost = np.square(sample_y-y_predicted)\n",
    "        \n",
    "            if i%100==0: # at every 100th iteration record the cost and epoch value\n",
    "                self.cost_list.append(self.cost)\n",
    "                self.epoch_list.append(i)\n",
    "        \n",
    "        return self.w, self.b, self.cost, self.cost_list, self.epoch_list\n",
    "    \n",
    "    def Mini_BCD(self,X, y_true, size_of_batch = 10):\n",
    "        number_of_features = X.shape[1]\n",
    "        # numpy array with 1 row and columns equal to number of features.\n",
    "        self.w = np.ones(shape=(number_of_features)) \n",
    "        self.b = 0\n",
    "        total_samples = X.shape[0]\n",
    "\n",
    "        for i in range(self.epochs):    \n",
    "            random_index = [random.randrange(0, total_samples, 1) for i in range(size_of_batch)] # random index from total samples\n",
    "            sample_x = X[random_index]\n",
    "            sample_y = y_true[random_index]\n",
    "        \n",
    "            y_predicted = np.dot(self.w, sample_x.T) + self.b\n",
    "    \n",
    "            w_grad = -(2/total_samples)*(sample_x.T.dot(sample_y-y_predicted))\n",
    "            b_grad = -(2/total_samples)*np.sum(sample_y-y_predicted)\n",
    "        \n",
    "            self.w = self.w - self.learning_rate * w_grad\n",
    "            self.b = self.b - self.learning_rate * b_grad\n",
    "        \n",
    "            self.cost = np.mean(np.square(sample_y-y_predicted))\n",
    "        \n",
    "            if i%100==0: # at every 100th iteration record the cost and epoch value\n",
    "                self.cost_list.append(self.cost)\n",
    "                self.epoch_list.append(i)\n",
    "        \n",
    "        return self.w, self.b, self.cost, self.cost_list, self.epoch_list\n",
    "    \n",
    "    def show_cost_vs_epoch(self):\n",
    "        plt.xlabel(\"epoch\")\n",
    "        plt.ylabel(\"cost\")\n",
    "        plt.plot(self.epoch_list,self.cost_list)\n"
   ]
  },
  {
   "cell_type": "code",
   "execution_count": 8,
   "metadata": {},
   "outputs": [
    {
     "data": {
      "text/plain": [
       "128.45484403267596"
      ]
     },
     "execution_count": 8,
     "metadata": {},
     "output_type": "execute_result"
    }
   ],
   "source": [
    "def predict(area,bedrooms,w,b):\n",
    "    scaled_X = sx.transform([[area, bedrooms]])[0]\n",
    "    # here w1 = w[0] , w2 = w[1], w3 = w[2] and bias is b\n",
    "    # equation for price is w1*area + w2*bedrooms + w3*age + bias\n",
    "    # scaled_X[0] is area\n",
    "    # scaled_X[1] is bedrooms\n",
    "    # scaled_X[2] is age\n",
    "    scaled_price = w[0] * scaled_X[0] + w[1] * scaled_X[1] + b\n",
    "    # once we get price prediction we need to to rescal it back to original value\n",
    "    # also since it returns 2D array, to get single value we need to do value[0][0]\n",
    "    return sy.inverse_transform([[scaled_price]])[0][0]\n",
    "\n",
    "predict(2600,4,w,b)"
   ]
  }
 ],
 "metadata": {
  "kernelspec": {
   "display_name": "Python 3 (ipykernel)",
   "language": "python",
   "name": "python3"
  },
  "language_info": {
   "codemirror_mode": {
    "name": "ipython",
    "version": 3
   },
   "file_extension": ".py",
   "mimetype": "text/x-python",
   "name": "python",
   "nbconvert_exporter": "python",
   "pygments_lexer": "ipython3",
   "version": "3.8.12"
  }
 },
 "nbformat": 4,
 "nbformat_minor": 4
}
